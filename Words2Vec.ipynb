{
  "nbformat": 4,
  "nbformat_minor": 0,
  "metadata": {
    "colab": {
      "name": "Words2Vec.ipynb",
      "provenance": [],
      "authorship_tag": "ABX9TyOaqQUepGhOddu/BltOYOaw",
      "include_colab_link": true
    },
    "kernelspec": {
      "name": "python3",
      "display_name": "Python 3"
    },
    "language_info": {
      "name": "python"
    },
    "accelerator": "GPU"
  },
  "cells": [
    {
      "cell_type": "markdown",
      "metadata": {
        "id": "view-in-github",
        "colab_type": "text"
      },
      "source": [
        "<a href=\"https://colab.research.google.com/github/RyanTokManMokMTM/NLP_Training4/blob/main/Words2Vec.ipynb\" target=\"_parent\"><img src=\"https://colab.research.google.com/assets/colab-badge.svg\" alt=\"Open In Colab\"/></a>"
      ]
    },
    {
      "cell_type": "code",
      "metadata": {
        "id": "5gurqneDTAv9"
      },
      "source": [
        "!unzip wiki_zh_2019\n",
        "#unzip the zipfile"
      ],
      "execution_count": null,
      "outputs": []
    },
    {
      "cell_type": "code",
      "metadata": {
        "id": "qt7noXba87u-"
      },
      "source": [
        "from os import listdir\n",
        "from os.path import isfile, isdir, join\n",
        "import json\n",
        "ALL_DATAS = []\n",
        "filesList = {\n",
        "    0:\"AA\",\n",
        "    1:\"AB\",\n",
        "    2:\"AC\",\n",
        "    4:\"AD\",\n",
        "    5:\"AE\",\n",
        "    6:\"AF\",\n",
        "    7:\"AG\",\n",
        "    8:\"AH\",    \n",
        "    9:\"AI\",\n",
        "    10:\"AJ\",\n",
        "    11:\"AK\",\n",
        "    12:\"AL\",\n",
        "    13:\"AM\"\n",
        "}\n",
        "\n",
        "for i in filesList:\n",
        "  folderPath = \"./wiki_zh/%s/\" % filesList[i]\n",
        "  files = listdir(folderPath)\n",
        "  for i in files:\n",
        "    curFilePath = folderPath + \"%s\"%i \n",
        "    print(curFilePath)\n",
        "    with open(curFilePath) as f:\n",
        "      for j in f.readlines():\n",
        "        str2Json = json.loads(j)\n",
        "        text = \"\".join(str2Json[\"text\"].strip().split())\n",
        "        ALL_DATAS.append(text)\n",
        "      f.close()\n"
      ],
      "execution_count": null,
      "outputs": []
    },
    {
      "cell_type": "code",
      "metadata": {
        "id": "qYpudYkjGhXQ"
      },
      "source": [
        "!pip install opencc-python-reimplemented"
      ],
      "execution_count": null,
      "outputs": []
    },
    {
      "cell_type": "code",
      "metadata": {
        "id": "ZCbWRwDLHXFT"
      },
      "source": [
        "#convert text \n",
        "from opencc import OpenCC\n",
        "#convert to zh-hk\n",
        "ccConvertor = OpenCC(\"s2hk\")\n",
        "transChineseList = []\n",
        "for i in ALL_DATAS:\n",
        "  transChineseList.append(ccConvertor.convert(i))\n"
      ],
      "execution_count": null,
      "outputs": []
    },
    {
      "cell_type": "code",
      "metadata": {
        "id": "5YdI4-yWCVTr"
      },
      "source": [
        "#store convertd data to csv\n",
        "import pandas as pd\n",
        "datas = pd.DataFrame(transChineseList)\n",
        "datas.to_csv(\"alldatas.csv\",encoding=\"utf-8\")"
      ],
      "execution_count": null,
      "outputs": []
    },
    {
      "cell_type": "markdown",
      "metadata": {
        "id": "DOQo3P3IVizE"
      },
      "source": [
        "# cut words"
      ]
    },
    {
      "cell_type": "code",
      "metadata": {
        "colab": {
          "base_uri": "https://localhost:8080/"
        },
        "id": "U2GY2jGwXJqM",
        "outputId": "05721a24-a23d-4183-c390-93b9a7ac1fa1"
      },
      "source": [
        "!pip install jieba"
      ],
      "execution_count": null,
      "outputs": [
        {
          "output_type": "stream",
          "text": [
            "Requirement already satisfied: jieba in /usr/local/lib/python3.7/dist-packages (0.42.1)\n"
          ],
          "name": "stdout"
        }
      ]
    },
    {
      "cell_type": "code",
      "metadata": {
        "id": "flknmXrPXraT"
      },
      "source": [
        "#load stopwords list\n",
        "import codecs \n",
        "fp = codecs.open(\"./stopwords.dat\",\"r\",encoding=\"utf-8\")\n",
        "contents = fp.read()\n",
        "fp.close()"
      ],
      "execution_count": null,
      "outputs": []
    },
    {
      "cell_type": "code",
      "metadata": {
        "id": "HaxTlIFXXLuM"
      },
      "source": [
        "import jieba\n",
        "import jieba.analyse\n",
        "cutWordsListDatas = []\n",
        "x = 0;\n",
        "for i in transChineseList:\n",
        "  cutWordsListDatas.append(\" \".join([word for word in jieba.cut(i,cut_all=False) if word not in contents]))\n",
        "  if(x%5000 == 0):\n",
        "    print(x)\n",
        "  x+=1"
      ],
      "execution_count": null,
      "outputs": []
    },
    {
      "cell_type": "code",
      "metadata": {
        "id": "NoMbd9mepzAE"
      },
      "source": [
        "cutWordsTxt = \"cutWordsList2.txt\"\n",
        "with open(cutWordsTxt,\"w\",encoding = \"utf-8\") as fw:\n",
        "  for data in cutWordsListDatas:\n",
        "    fw.write(data)\n",
        "    fw.write(\"\\n\")\n"
      ],
      "execution_count": 66,
      "outputs": []
    },
    {
      "cell_type": "code",
      "metadata": {
        "colab": {
          "base_uri": "https://localhost:8080/",
          "height": 324
        },
        "id": "i6k4wjvn2WLR",
        "outputId": "3c963cf1-af1d-4104-eaf0-178351e57b2d"
      },
      "source": [
        "cutWordsListDatas[0]"
      ],
      "execution_count": 93,
      "outputs": [
        {
          "output_type": "execute_result",
          "data": {
            "application/vnd.google.colaboratory.intrinsic+json": {
              "type": "string"
            },
            "text/plain": [
              "'固定翼 飛機 固定翼 飛機 簡稱 定翼機 簡稱 飛機 英文 指由動力 裝置產 生前 推力 拉力 機身 固定 機翼產生 升力 大氣層 飛行 空氣 航空器 固定翼 航空器 一種 最常見 一種 一種 固定翼 航空器 滑翔 飛機 發動 機類 型 分為 噴氣 飛機 螺旋 槳 飛機 固定翼 機是 人類 20 世紀 科學 技術 成就 有人 將它 電視 電腦 並列 20 世紀 人類 影響 三大 發明 世界 最早 固定翼 發明 各國 尚存 爭議 觀點 美國 人萊特 兄弟 發明 1903 12 17 飛行 第一次 空氣 航空器 受控 持續 動力 飛行 國際 航空 聯合會 FAI 所認 交通工具 相比 固定翼 機有 優點 固定翼 機作 交通工具 侷 限性 固定翼 機不斷 提升 燃油 效率 飛行 消耗 公斤 燃油 排放 公斤 二氧化碳 氣體 大氣層 排放 全球 暖化 影響 地面 排放 飛機 機體 結構 包括 機翼 機身 尾翼 起落架 飛機 發動機 機身 則發動 機短艙 也屬 機體 結構 一部分 機翼 飛 機產生 升力 部件 機翼後緣 可操 活動面 外側 副翼 控制 飛機 滾 轉運動 內側 的則 襟翼 增加 起飛 着 陸階段 升力 著陸時 阻力 提供 更大 下降 坡率 機翼 內部 安裝 油箱 機翼 下面 則可供 掛載 副油箱 武器 附加 設備 飛機 發動機 起落架 安裝 機翼 下方 大型 飛機 翼面 設有擾 流板 飛行 轉向 降低 升力 輔助 轉向 亦可 飛行 降落 接地 時立 減速 機翼 形狀 數目 航空 技術 發達 早期 提供 更大 升力 固定翼 機以 雙翼機 多翼 機為 飛機 單翼機 機身 功用 裝載 人員 貨物 設備 燃料 武器 飛機 結構 部件 安裝 基礎 尾翼 機翼及 發動機 連接成 整體 飛翼機 機身 隱藏 機翼 內部 尾翼 平衡 穩定 操縱 飛機 飛行 姿態 部件 包括 垂直 尾翼 垂尾 水平尾翼 平尾 垂直 尾翼 固定 垂直 安定 面和安裝 其後部 方向舵 水平尾翼 固定 水平 安定 面和安裝 其後部 升降舵 型號 飛機 升降舵 全動式 水平尾翼 方向舵 小幅度 控制 修正 飛機 航向 運動 升降舵 控制 飛機 俯仰 運動 起落架 支撐 飛機 停放 滑行 起飛 着 陸 滑跑 部件 支柱 緩衝器 剎車 裝置 機輪 收放 機構 陸上 飛機 起落 裝置 減震 支柱 機輪 還有專 供水 飛機 起降 浮筒 裝置 起落架 雪地 起飛用 滑橇 起落架 飛機 動力 裝置 核心 航空 發動機 功能 拉力 推力 克服 空氣 運動 時產生 阻力 飛機 次要 功能 則是 飛機 電設備 提供 電力 空調 設備 用氣 設備 提供 氣源 飛機 動力 裝置 發動 機外 包括 一系列 保證 發動機 工作 系統 引擎 燃油 系統 引擎 控制 系統 飛機 動力 裝置 渦輪 引擎 噴射 引擎 引擎 兩種 配置 方式 有四種 航空 活塞式 發動 機加 螺旋 槳 推 進器 渦輪 噴射 引擎 渦輪 螺旋 槳 引擎 渦輪 扇 引擎 航空 技術 發展 火箭 發動機 衝壓 引擎 原子能 航空 發動機 脈衝 爆震 發動機 採用 固定翼 機駕 駛艙 可供 駕駛員 固定翼 機操 縱裝置 flightcontrolsystem 包括 隨着 電子 技術 發展 飛行 操縱 裝置 形式 發生 根本性 變化 大型 固定翼 機中 傳統 機械式 操 縱系統 地被 先進 電傳操 縱系統 取代 計算 機系統 介入 飛行 操 縱系統 駕駛員 操作 像是 操縱 固定翼 機動作 像是 固定翼 機下 運動 指令 採用 電傳操 縱系統 固定翼 取消 原有 駕駛杆 駕駛盤 裝置 改為 側杆 操縱 駕駛艙 空間 顯得 以往 鬆 駕駛員稱 此類 駕駛艙 飛行 公室 航速 固定翼 性能 若干 歷史 航速 紀錄 2004 28 新加坡航空公司 開通 新加坡 美國 紐約 紐華克 機場 每日 不停 站 直航 航班 航班 號 SQ21 SQ22 超過 新加坡 至洛杉磯 航線 全球 最長 不停 站 商業 飛行 航線 新航 空中巴士 A340 500 客機 飛行 航線 航程 16600 公里 飛行 需時 18 小時 2012 10 新加坡 航空 2013 第四季度 停飛 直達紐 瓦克 洛杉磯 A340 500 航班 號 SQ37 38 航班 SQ21 號班機 末班 2013 11 23 日飛航 編號 9V SGE A340 500 執行 全球 距離 最長 不停 站 航班 將為 悉尼 飛往 拉斯 澳洲 航空 號班機 航程 13804 公里 波音 747 400ER 執行 用時 最長 不停 站班機 將會 翰內斯堡 飛往 亞特蘭大 美 航空 201 號班機 用時 16 小時 55 分鐘 波音 777 200LR 執行 最遠 直飛 航線 澳洲 航空 由達 拉斯 雪梨 機場 QF8 班機 空中巴士 A380 800 機型 飛航 時間 16 小時 50 2003 11 美國 麻省理工 學院 英國劍橋 大學 研究 團隊 啟動 一項 計劃 名為 靜音 飛機 計劃 這將 改造 客機 概念 設計 未來 客機將 省油 還安靜 無聲 一解 機場 居民 飽受 飛機 起降 噪音 折磨 之苦 「 靜音 噴氣機 運送 215 名 乘客 2030 年時 航空界 這架 客機 噪音 機場 聽 洗衣 機或類 似家電 噪音'"
            ]
          },
          "metadata": {
            "tags": []
          },
          "execution_count": 93
        }
      ]
    },
    {
      "cell_type": "markdown",
      "metadata": {
        "id": "IXYdX5McsRny"
      },
      "source": [
        "# Word2vec for our text"
      ]
    },
    {
      "cell_type": "code",
      "metadata": {
        "id": "3G75K0TIIUW3",
        "colab": {
          "base_uri": "https://localhost:8080/"
        },
        "outputId": "9d101b07-485a-45da-bced-f0046cefe9b4"
      },
      "source": [
        "from google.colab import drive\n",
        "drive.mount('/content/drive')"
      ],
      "execution_count": 47,
      "outputs": [
        {
          "output_type": "stream",
          "text": [
            "Drive already mounted at /content/drive; to attempt to forcibly remount, call drive.mount(\"/content/drive\", force_remount=True).\n"
          ],
          "name": "stdout"
        }
      ]
    },
    {
      "cell_type": "code",
      "metadata": {
        "id": "gFhjkUNGIa1u"
      },
      "source": [
        "#store txt to array\\\n",
        "cutWordsListDatas = []\n",
        "with open(\"/content/drive/MyDrive/cutWordsList.txt\") as f:\n",
        "  for i in f.readlines():\n",
        "    cutWordsListDatas.append(i.rstrip(\"\\n\"))"
      ],
      "execution_count": 55,
      "outputs": []
    },
    {
      "cell_type": "code",
      "metadata": {
        "id": "gSh7fR01JsAN",
        "colab": {
          "base_uri": "https://localhost:8080/"
        },
        "outputId": "bd648f92-467f-47e9-d5b8-d39949fd3729"
      },
      "source": [
        "!pip install gensim"
      ],
      "execution_count": null,
      "outputs": [
        {
          "output_type": "stream",
          "text": [
            "Requirement already satisfied: gensim in /usr/local/lib/python3.7/dist-packages (3.6.0)\n",
            "Requirement already satisfied: smart-open>=1.2.1 in /usr/local/lib/python3.7/dist-packages (from gensim) (5.1.0)\n",
            "Requirement already satisfied: scipy>=0.18.1 in /usr/local/lib/python3.7/dist-packages (from gensim) (1.4.1)\n",
            "Requirement already satisfied: numpy>=1.11.3 in /usr/local/lib/python3.7/dist-packages (from gensim) (1.19.5)\n",
            "Requirement already satisfied: six>=1.5.0 in /usr/local/lib/python3.7/dist-packages (from gensim) (1.15.0)\n"
          ],
          "name": "stdout"
        }
      ]
    },
    {
      "cell_type": "code",
      "metadata": {
        "id": "QSSOaOCvsVK6",
        "colab": {
          "base_uri": "https://localhost:8080/"
        },
        "outputId": "aeb0e493-eefc-4f37-dde3-261525956b89"
      },
      "source": [
        "!pip install word2vec"
      ],
      "execution_count": 48,
      "outputs": [
        {
          "output_type": "stream",
          "text": [
            "Requirement already satisfied: word2vec in /usr/local/lib/python3.7/dist-packages (0.11.1)\n",
            "Requirement already satisfied: joblib in /usr/local/lib/python3.7/dist-packages (from word2vec) (1.0.1)\n",
            "Requirement already satisfied: numpy>=1.9.2 in /usr/local/lib/python3.7/dist-packages (from word2vec) (1.19.5)\n"
          ],
          "name": "stdout"
        }
      ]
    },
    {
      "cell_type": "code",
      "metadata": {
        "id": "Q0I34O7OehTD"
      },
      "source": [
        "import word2vec\n",
        "word2vec.word2vec(\"cutWordsList2.txt\",\"demo.bin\",size=300,verbose=True,binary=True)"
      ],
      "execution_count": null,
      "outputs": []
    },
    {
      "cell_type": "code",
      "metadata": {
        "id": "aAmCNasHeqt4"
      },
      "source": [
        "model =  word2vec.load(\"demo.bin\")"
      ],
      "execution_count": 69,
      "outputs": []
    },
    {
      "cell_type": "code",
      "metadata": {
        "colab": {
          "base_uri": "https://localhost:8080/"
        },
        "id": "Ecz8xDEB0dmj",
        "outputId": "3741acb1-ba5b-4eaf-c21d-2ca083811a23"
      },
      "source": [
        "if __name__ == '__main__':\n",
        "  word = \"鋼鐵人\"\n",
        "  datas = model.similar(word,n=20)\n",
        "  word = list(datas[0])\n",
        "  score = list(datas[1])\n",
        "  for i in range(len(word)):\n",
        "      print(\"%s : %s\" % (model.vocab[word[i]],score[i]))\n"
      ],
      "execution_count": 136,
      "outputs": [
        {
          "output_type": "stream",
          "text": [
            "蜘蛛人 : 0.7715826053998335\n",
            "水行俠 : 0.737633098643578\n",
            "仇者 : 0.7172986328173914\n",
            "鋼鐵俠 : 0.7097133364879444\n",
            "夜魔俠 : 0.6916923892783963\n",
            "死侍 : 0.6905602600709029\n",
            "漫威 : 0.6771899330465423\n",
            "浩克 : 0.6771353180448477\n",
            "閃電俠 : 0.6745832078566145\n",
            "綠燈俠 : 0.6715115775461686\n",
            "特攻隊 : 0.6641374024557118\n",
            "戰甲 : 0.6584346089582496\n",
            "鐵拳俠 : 0.654428165528822\n",
            "綠箭俠 : 0.6527442821540076\n",
            "女超人 : 0.648465130172418\n",
            "魔俠 : 0.6450306426433308\n",
            "超人 : 0.6397801118649373\n",
            "魔龍 : 0.6333124260608268\n",
            "前傳 : 0.6330088338004289\n",
            "美國隊 : 0.629012049371652\n"
          ],
          "name": "stdout"
        }
      ]
    },
    {
      "cell_type": "code",
      "metadata": {
        "id": "SbJhSpsC6Nrl"
      },
      "source": [
        ""
      ],
      "execution_count": null,
      "outputs": []
    }
  ]
}